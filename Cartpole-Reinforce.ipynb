{
  "nbformat": 4,
  "nbformat_minor": 0,
  "metadata": {
    "colab": {
      "name": "Reinforce.ipynb",
      "provenance": [],
      "collapsed_sections": []
    },
    "kernelspec": {
      "name": "python3",
      "display_name": "Python 3"
    },
    "accelerator": "GPU"
  },
  "cells": [
    {
      "cell_type": "code",
      "metadata": {
        "colab": {
          "base_uri": "https://localhost:8080/"
        },
        "id": "EZQe_aovC-c0",
        "outputId": "5a74d014-5740-4aeb-e090-2df9d14b32f6"
      },
      "source": [
        "import tensorflow as tf\n",
        "import gym\n",
        "import numpy as np\n",
        "import matplotlib.pyplot as plt\n",
        "from IPython import display\n",
        "import time\n",
        "\n",
        "class PolicyNetwork:\n",
        "\n",
        "    def __init__(self, input_shape, output_shape, discount=0.9, learning_rate=3e-4):\n",
        "\n",
        "        self.model = tf.keras.models.Sequential([\n",
        "                            tf.keras.layers.Dense(16, activation='relu', input_shape=input_shape),\n",
        "                            tf.keras.layers.Dense(32, activation='relu'),\n",
        "                            tf.keras.layers.Dense(output_shape, activation='softmax')])\n",
        "        \n",
        "        self.optimizer = tf.keras.optimizers.Adam(learning_rate=learning_rate)\n",
        "        self.discount = discount\n",
        "        self.num_actions = output_shape\n",
        "\n",
        "    def forward(self, state):\n",
        "        state = tf.convert_to_tensor(state)\n",
        "        state = tf.expand_dims(state, 0)\n",
        "        return self.model(state)\n",
        "    \n",
        "    def get_action(self, state):\n",
        "        \n",
        "        probs = self.forward(state)\n",
        "        action = np.random.choice(self.num_actions, p=tf.squeeze(probs).numpy())\n",
        "        \n",
        "        log_prob = tf.math.log(tf.squeeze(probs)[action])\n",
        "        \n",
        "        return action, log_prob\n",
        "\n",
        "    def train_episode(self, env, max_steps, render=False):\n",
        "\n",
        "        state = env.reset()\n",
        "\n",
        "        log_probs = []\n",
        "        rewards = []\n",
        "\n",
        "        with tf.GradientTape() as tape:\n",
        "            \n",
        "            for step in range(max_steps):\n",
        "                \n",
        "                action, log_prob = self.get_action(state)\n",
        "\n",
        "                state, reward, done, _ = env.step(action)\n",
        "                rewards.append(reward)\n",
        "                log_probs.append(log_prob)\n",
        "\n",
        "                if done:\n",
        "                    discounted_rewards = []\n",
        "                    for t in range(len(rewards)):\n",
        "                        Gt = 0\n",
        "                        pw = 0\n",
        "                        for r in rewards[t:]:\n",
        "                            Gt += (self.discount**pw) * r\n",
        "                            pw += 1\n",
        "                        discounted_rewards.append(Gt)\n",
        "\n",
        "                    discounted_rewards = np.array(discounted_rewards)\n",
        "                    discounted_rewards = (discounted_rewards - np.mean(discounted_rewards)) / (np.std(discounted_rewards) + 1e-9)\n",
        "                    discounted_rewards = discounted_rewards.tolist()\n",
        "                    policy_loss = 0\n",
        "                    for log_prob, Gt in zip(log_probs, discounted_rewards):\n",
        "                        policy_loss -= log_prob * Gt\n",
        "                    break\n",
        "        \n",
        "        if done:\n",
        "            policy_gradients = tape.gradient(policy_loss, self.model.trainable_variables)\n",
        "            self.optimizer.apply_gradients(zip(policy_gradients, self.model.trainable_variables))\n",
        "\n",
        "        return rewards\n",
        "        \n",
        "\n",
        "if __name__ == '__main__':\n",
        "\n",
        "    env = gym.make('CartPole-v0')\n",
        "\n",
        "    episode_rewards = []\n",
        "    agent = PolicyNetwork(env.observation_space.shape, env.action_space.n)\n",
        "    for episode in range(1, 5000):\n",
        "        try:\n",
        "            display.clear_output(wait=True)\n",
        "            if episode % 100 == 0:\n",
        "                rewards = agent.train_episode(env, 10000, True)    \n",
        "            else:\n",
        "                rewards = agent.train_episode(env, 10000)\n",
        "            print(f\"In Episode : {episode}\")\n",
        "            \n",
        "            episode_rewards.append(sum(rewards))\n",
        "            print(np.mean(episode_rewards))\n",
        "\n",
        "        except KeyboardInterrupt:\n",
        "            agent.model.save(\"Model_new.h5\")\n",
        "            plt.plot(list(range(len(episode_rewards))), episode_rewards)\n",
        "            plt.show()\n",
        "            time.sleep(5)\n",
        "   \n"
      ],
      "execution_count": 88,
      "outputs": [
        {
          "output_type": "stream",
          "text": [
            "In Episode : 4999\n",
            "148.95779155831167\n"
          ],
          "name": "stdout"
        }
      ]
    },
    {
      "cell_type": "code",
      "metadata": {
        "colab": {
          "base_uri": "https://localhost:8080/",
          "height": 284
        },
        "id": "jXLcD3ZmFENz",
        "outputId": "5bd5fdb0-f20d-469f-8731-1a900c81f3e9"
      },
      "source": [
        "prev = 0\n",
        "mva = []\n",
        "\n",
        "k = 2 / (201)\n",
        "\n",
        "for el in episode_rewards:\n",
        "\n",
        "    if prev != 0:\n",
        "        pres = prev * (1 - k) + el * k\n",
        "    else:\n",
        "        pres = el\n",
        "    prev = pres\n",
        "    mva.append(pres)\n",
        "plt.plot(list(range(len(episode_rewards))), episode_rewards, alpha=0.5, label=\"Episode Reward\")\n",
        "plt.plot(list(range(len(mva))), mva, label=\"Moving Average\")\n",
        "plt.legend()"
      ],
      "execution_count": 92,
      "outputs": [
        {
          "output_type": "execute_result",
          "data": {
            "text/plain": [
              "<matplotlib.legend.Legend at 0x7f6488127630>"
            ]
          },
          "metadata": {
            "tags": []
          },
          "execution_count": 92
        },
        {
          "output_type": "display_data",
          "data": {
            "image/png": "[encoded data removed]",
            "text/plain": [
              "<Figure size 432x288 with 1 Axes>"
            ]
          },
          "metadata": {
            "tags": [],
            "needs_background": "light"
          }
        }
      ]
    }
  ]
}